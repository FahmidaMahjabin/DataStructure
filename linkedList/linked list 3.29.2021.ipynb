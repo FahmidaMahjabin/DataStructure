{
 "cells": [
  {
   "cell_type": "code",
   "execution_count": null,
   "metadata": {},
   "outputs": [],
   "source": [
    "Node\n",
    "properties: 1.value\n",
    "            2.next pointer \n",
    "        \n",
    "linkedList:\n",
    "properties:1.head(first Node in a linked list, if empty list then the head is none) \n",
    "            2.tail(last node in a linked list,if empty list then tail is none )\n",
    "method:\n",
    "    1.insertLink \n",
    "    2.detelteLink\n",
    "    3.searchLink  \n",
    "     "
   ]
  },
  {
   "cell_type": "code",
   "execution_count": 1,
   "metadata": {},
   "outputs": [],
   "source": [
    "class Node:\n",
    "    def __init__(self, value):\n",
    "        self.value = value \n",
    "        self.nextPointer = None \n",
    "        "
   ]
  },
  {
   "cell_type": "code",
   "execution_count": 58,
   "metadata": {},
   "outputs": [],
   "source": [
    "class LinkedList:\n",
    "    def __init__(self):\n",
    "        self.head = None \n",
    "        self.tail = None\n",
    "\n",
    "\n",
    "# function = appendValue\n",
    "# input = value \n",
    "# outPut = None \n",
    "# step1:if the head is None then assign the value as a node in head \n",
    "#     2.update tail and return\n",
    "# step2:else:\n",
    "#         1.tail er nextPointer e  node assign korbo \n",
    "#         2.tail er next pointer k tail e assign korbo and return koprbo \n",
    "    def appendValue(self, value):\n",
    "        node = Node(value)\n",
    "        if self.head == None:\n",
    "            self.head = node\n",
    "            self.tail = self.head\n",
    "            return\n",
    "        else:\n",
    "            self.tail.nextPointer = node\n",
    "            self.tail = self.tail.nextPointer\n",
    "            return \n",
    "        \n",
    "# 1.link1.appendValue(30)\n",
    "# 2.address1.appendValue(30):\n",
    "#     1.self = address1 , value = 30\n",
    "#     2.node = Node(value)\n",
    "#     3.node = Node(30)\n",
    "#     4.node = nodeAddress2\n",
    "#     5.if self.head == None :\n",
    "#     6.if address1.head == None\n",
    "#     7.if None == None \n",
    "#     8.if True:\n",
    "#         1.self.head = node \n",
    "#         2.self.head = nodeAddress2\n",
    "#         3.address1.head = nodeAddress2\n",
    "#         4.self.tail = self.head \n",
    "#         5.self.tail = nodeAddress2 \n",
    "#         6.return \n",
    "\n",
    "\n",
    "#     function = getNode(value linked list e thakle node return kore or False return kore) \n",
    "#     input = value \n",
    "#     output =return the node if found else None \n",
    "#     step1:if head value and input value same hoy then return the head \n",
    "#     step2: else: \n",
    "#             return searchNode(currentNode, value) where currentNode = head er nextPointer\n",
    "    def getNode(self, value):\n",
    "        if self.head.value == value:\n",
    "            return self.head \n",
    "        else:\n",
    "            currentNode = self.head.nextPointer \n",
    "            return self.searchValue(currentNode, value)\n",
    "\n",
    "#     function = searchValue \n",
    "#     input = currentNode, value\n",
    "#     output = nothing \n",
    "#     step1:if currentNode empty then return None\n",
    "#     step2:else currentNode value and value same hole return currentNode\n",
    "#     step3:else insert currentNode = currentNode.nextPointer and do the step1 again\n",
    "#          \n",
    "    def searchValue(self, currentNode, value):\n",
    "        if currentNode == None:\n",
    "                return None\n",
    "        else:\n",
    "            if currentNode.value == value:\n",
    "                return currentNode \n",
    "            else:\n",
    "                currentNode = currentNode.nextPointer \n",
    "                return self.searchValue(currentNode, value)\n",
    "# 1.link1.getNode(50)\n",
    "# 2.address1.getNode(50):\n",
    "#     1.self = address1, value = 50\n",
    "#     2.if self.head.value == value:\n",
    "#     3.if address1.head.value == 50\n",
    "#     4.if 30 == 50\n",
    "#     5.if False\n",
    "#     6.else:\n",
    "#         1.currentNode = self.head.nextPointer\n",
    "#         2.currentNode = address1.head.nextPointer\n",
    "#         3.currentNode = None\n",
    "#         4.node = Node(value)\n",
    "#         5.node = Node(50)\n",
    "#         6.node = addressNode50\n",
    "#         7.return self.searchNode(currentNode, node):\n",
    "#             1.address1.searchNode(None, addressNode50):\n",
    "#             2.self = address1, currentNode = None, node = addressNode50\n",
    "#             3.if currentNode == None:\n",
    "#             4.if None == None:\n",
    "#                 return False\n",
    "    \n",
    "            \n",
    "    \"\"\"function = detete\n",
    "                i.e jei node ta delete korte chascchi tar previous node e oi noder nextPointer ta assign korlei delete hobe \n",
    "        input = value \n",
    "        output = delete the node \n",
    "        step1:if head is none then nothing to delete , return False\n",
    "        step2:if head value and inputValue same hoy tahole ,\n",
    "            step2.1:head er nextPointer None na hole head e head er nextPointer assign korbo and return True \n",
    "            step 2.2: None hole head and tail e None assign korbo\n",
    "        step3:else:\n",
    "                1.return deleteNode(parentNode, value) where parentNode = head and value\"\"\"\n",
    "    def delete(self, value):\n",
    "        if self.head == None:\n",
    "            return False\n",
    "        elif self.head.value == value:\n",
    "            if self.head.nextPointer == None:\n",
    "                self.head = None\n",
    "                self.tail = self.head\n",
    "                return True\n",
    "            else:\n",
    "                self.head = self.head.nextPointer\n",
    "                return True    \n",
    "        else:\n",
    "            return self.deleteNode(self.head, value)\n",
    "\n",
    "#      function = isTail\n",
    "#     input = node\n",
    "#     outPut = True if node is tail else return False\n",
    "#     1.node er nextPointer None kinacheck korbo\n",
    "#     2.None hole return True\n",
    "#     3.else return False\n",
    "\n",
    "    def isTail(self, node):\n",
    "        if self.node.nextPointer == None:\n",
    "            return True\n",
    "        else:\n",
    "            return False \n",
    "        \n",
    "        \"\"\"function = deleteNode\n",
    "        input = parentNode, inputValue\n",
    "        step1:parentNode tail hole return False\n",
    "        step2: else parentNOde er nextPointer er value inputValue same kina check korbo \n",
    "            step2.1:jodi same hoy:\n",
    "                1.nodeToDelete  = parent er nextPointer\n",
    "                2.nodeToDelete er nextPointer er value ache kina check korbo, thakle\n",
    "                    1.nextNode = nodeToDelete.nextPointer\n",
    "                    2.parentNode er nextPointer e nextNode assign korbo\n",
    "                    3.deleteNode er nextPointer None kore dibo\n",
    "                    4. return true korbo\n",
    "                3.nodeToDelete tail hole,parentNode er nextPointer None assign korbo and\n",
    "                tail hobe parentNode\n",
    "            step2.2:jodi value same na hoy tahole , parentNode e parentNode er nextPointer assign korbo and do step1 again \"\"\" \n",
    "\n",
    "    \n",
    "        \n",
    "    def deleteNode(self, parentNode, value):\n",
    "        if self.isTail(parentNode) is True:\n",
    "            return False\n",
    "        else:\n",
    "            if parentNode.nextPointer.value == value:\n",
    "                nodeToDelete = parentNode.nextPointer\n",
    "                if self.isTail(nodeToDelete) is False:\n",
    "                    nextNode = nodeToDelete.nextPointer\n",
    "                    parentNode.nextPointer = nextNode\n",
    "                    deleteNode.nextPointer = None\n",
    "                    return True \n",
    "                else:\n",
    "                    parentNode.nextPointer = None\n",
    "                    self.tail = parentNode\n",
    "                    return True\n",
    "            else:\n",
    "                parentNode = parentNode.nextPointer\n",
    "                return self.deleteNode(parentNode, value)\n",
    "                \n",
    "                \n",
    "                \n",
    "    \"\"\"function = updateValue(oldValue deya thakbe seta replace korte hobe newValue diye )\n",
    "    input = previousValue, newValue\n",
    "    outPut = return True if we can update it else False \n",
    "    step1: if head value is same as previousValue then assign head = updateValue\n",
    "        step1.1:head er nextPointer na thakle tail e head er value hobe \n",
    "    step2:else return replaceValue(currentNode,previousValue, newValue) where currentNode is head er nextPointer\"\"\"\n",
    "    \n",
    "    def updateValue(self, previousValue, updateValue):\n",
    "        if self.head.value == previousValue:\n",
    "            self.head.value = updateValue\n",
    "            if self.head.nextPointer == None:\n",
    "                self.tail = self.head\n",
    "                return True\n",
    "            return True\n",
    "        else:\n",
    "            return self.replaceValue(self.head.nextPointer, previousValue, updateValue)\n",
    "    \n",
    "    \"\"\"function = replaceValue\n",
    "    input =currentNode,previousValue, newValue,  \n",
    "    outPut = None \n",
    "    step1:if currentNode is empty return False\n",
    "    step2:else\n",
    "        step2.1:currentNode er value and previousValue same hole :\n",
    "            1.currentNode er value newValue diye replace korbo \n",
    "            2.currentNOde er nextPointer na thakle tail update kore currentNode er value hobe\n",
    "            2.return True \n",
    "        step21.2:currentNoder value previousValue er same na hole:\n",
    "            1.currentNode e currentNoder nextPointer assign korbo and step1 again \"\"\" \n",
    "    def replaceValue(self, currentNode, previousValue, updateValue):\n",
    "        if currentNode == None:\n",
    "            return False\n",
    "        else:\n",
    "            if currentNode.value == previousValue:\n",
    "                currentNode.value = updateValue\n",
    "                if currentNode.nextPointer == None:\n",
    "                    self.tail.value = updateValue\n",
    "                    return True\n",
    "                return True\n",
    "            else:\n",
    "                currentNode = currentNode.nextPointer\n",
    "                return self.replaceValue(currentNode, previousValue, updateValue)\n",
    "            \n",
    "    \n",
    "        \n",
    "    \n",
    "# linkedlist= [30, 50]                \n",
    "# link1.updateValue(50, 70):\n",
    "#     1.self = addresslink1, previousValue = 50, updateValue = 70\n",
    "#     2.if self.head.value == previousValue:\n",
    "#     3.if addresslink1.head.value == previousValue\n",
    "#     4.if addressnode30.value == 50\n",
    "#     5.if 30 == 50\n",
    "#     6.if False\n",
    "#     7.else:\n",
    "#         return self.replaceValue(self.head.nextPointer, previousValue, updateValue)\n",
    "#         1.addresslink1.replaceValue(addresslink1.head.nextPointer, 50, 70)\n",
    "#         2.addresslink1.replaceValue(address30.nextPointer, 50, 70)\n",
    "#         3.addresslink1.replaceValue(address50, 50, 70):\n",
    "#             1.self = addresslink1, currentNode = address50, previousValue = 50, updateValue = 70\n",
    "#             2.if currentNode == None:\n",
    "#             3.if adress50 == None\n",
    "#             4.if False\n",
    "#             5.else:\n",
    "#                 1.if currentNode.value == previousValue\n",
    "#                 2.if address50.value == previousValue\n",
    "#                 3.if 50 == 50\n",
    "#                 4.if True:\n",
    "#                     1.currentNode.value = updateValue\n",
    "#                     2.address50.value = 70\n",
    "#                     3.if currentNode.nextPointer == None\n",
    "#                     4.if address50.nextPointer == None\n",
    "#                     5.if None == None:\n",
    "#                     6.if True:\n",
    "#                         1.self.tail.value = updateValue\n",
    "#                         2.addresslink1.tail.value = 70\n",
    "#                         3.return True\n",
    "                \n",
    "\n"
   ]
  },
  {
   "cell_type": "code",
   "execution_count": 59,
   "metadata": {},
   "outputs": [],
   "source": [
    "link1 = LinkedList()"
   ]
  },
  {
   "cell_type": "code",
   "execution_count": 30,
   "metadata": {},
   "outputs": [],
   "source": [
    "link1.appendValue(30)"
   ]
  },
  {
   "cell_type": "code",
   "execution_count": 31,
   "metadata": {},
   "outputs": [
    {
     "data": {
      "text/plain": [
       "True"
      ]
     },
     "execution_count": 31,
     "metadata": {},
     "output_type": "execute_result"
    }
   ],
   "source": [
    "link1.delete(30)"
   ]
  },
  {
   "cell_type": "code",
   "execution_count": 32,
   "metadata": {},
   "outputs": [
    {
     "data": {
      "text/plain": [
       "False"
      ]
     },
     "execution_count": 32,
     "metadata": {},
     "output_type": "execute_result"
    }
   ],
   "source": [
    "link1.delete(10)"
   ]
  },
  {
   "cell_type": "code",
   "execution_count": 33,
   "metadata": {},
   "outputs": [],
   "source": [
    "link1.appendValue(7)"
   ]
  },
  {
   "cell_type": "code",
   "execution_count": 34,
   "metadata": {},
   "outputs": [],
   "source": [
    "link1.appendValue(10)"
   ]
  },
  {
   "cell_type": "code",
   "execution_count": 35,
   "metadata": {},
   "outputs": [
    {
     "data": {
      "text/plain": [
       "True"
      ]
     },
     "execution_count": 35,
     "metadata": {},
     "output_type": "execute_result"
    }
   ],
   "source": [
    "link1.delete(10)"
   ]
  },
  {
   "cell_type": "code",
   "execution_count": 36,
   "metadata": {},
   "outputs": [
    {
     "name": "stdout",
     "output_type": "stream",
     "text": [
      "7\n"
     ]
    }
   ],
   "source": [
    "print(link1.tail.value)"
   ]
  },
  {
   "cell_type": "code",
   "execution_count": 37,
   "metadata": {},
   "outputs": [],
   "source": [
    "link1.appendValue(12)"
   ]
  },
  {
   "cell_type": "code",
   "execution_count": 38,
   "metadata": {},
   "outputs": [],
   "source": [
    "link1.appendValue(15)"
   ]
  },
  {
   "cell_type": "code",
   "execution_count": 39,
   "metadata": {},
   "outputs": [
    {
     "data": {
      "text/plain": [
       "True"
      ]
     },
     "execution_count": 39,
     "metadata": {},
     "output_type": "execute_result"
    }
   ],
   "source": [
    "link1.delete(12)"
   ]
  },
  {
   "cell_type": "code",
   "execution_count": 40,
   "metadata": {},
   "outputs": [
    {
     "name": "stdout",
     "output_type": "stream",
     "text": [
      "15\n"
     ]
    }
   ],
   "source": [
    "print(link1.tail.value)"
   ]
  },
  {
   "cell_type": "code",
   "execution_count": 41,
   "metadata": {},
   "outputs": [
    {
     "data": {
      "text/plain": [
       "False"
      ]
     },
     "execution_count": 41,
     "metadata": {},
     "output_type": "execute_result"
    }
   ],
   "source": [
    "link1.delete(20)"
   ]
  },
  {
   "cell_type": "code",
   "execution_count": 42,
   "metadata": {},
   "outputs": [
    {
     "data": {
      "text/plain": [
       "True"
      ]
     },
     "execution_count": 42,
     "metadata": {},
     "output_type": "execute_result"
    }
   ],
   "source": [
    "link1.delete(7)"
   ]
  },
  {
   "cell_type": "code",
   "execution_count": 60,
   "metadata": {},
   "outputs": [],
   "source": [
    "link1.appendValue(30)"
   ]
  },
  {
   "cell_type": "code",
   "execution_count": 61,
   "metadata": {},
   "outputs": [],
   "source": [
    "link1.appendValue(50)"
   ]
  },
  {
   "cell_type": "code",
   "execution_count": 62,
   "metadata": {},
   "outputs": [
    {
     "data": {
      "text/plain": [
       "True"
      ]
     },
     "execution_count": 62,
     "metadata": {},
     "output_type": "execute_result"
    }
   ],
   "source": [
    "link1.updateValue(50, 70)"
   ]
  },
  {
   "cell_type": "code",
   "execution_count": 63,
   "metadata": {},
   "outputs": [
    {
     "name": "stdout",
     "output_type": "stream",
     "text": [
      "70\n"
     ]
    }
   ],
   "source": [
    "print(link1.tail.value)"
   ]
  },
  {
   "cell_type": "code",
   "execution_count": 64,
   "metadata": {},
   "outputs": [
    {
     "data": {
      "text/plain": [
       "True"
      ]
     },
     "execution_count": 64,
     "metadata": {},
     "output_type": "execute_result"
    }
   ],
   "source": [
    "link1.updateValue(30, 10)"
   ]
  },
  {
   "cell_type": "code",
   "execution_count": 65,
   "metadata": {},
   "outputs": [
    {
     "data": {
      "text/plain": [
       "False"
      ]
     },
     "execution_count": 65,
     "metadata": {},
     "output_type": "execute_result"
    }
   ],
   "source": [
    "link1.updateValue(30, 10)"
   ]
  },
  {
   "cell_type": "code",
   "execution_count": 45,
   "metadata": {},
   "outputs": [
    {
     "name": "stdout",
     "output_type": "stream",
     "text": [
      "<__main__.Node object at 0x000001D338CCBA88>\n"
     ]
    }
   ],
   "source": [
    "print(link1.head.nextPointer)"
   ]
  },
  {
   "cell_type": "code",
   "execution_count": 46,
   "metadata": {},
   "outputs": [
    {
     "name": "stdout",
     "output_type": "stream",
     "text": [
      "30\n"
     ]
    }
   ],
   "source": [
    "print(link1.head.value)"
   ]
  },
  {
   "cell_type": "code",
   "execution_count": 47,
   "metadata": {},
   "outputs": [
    {
     "name": "stdout",
     "output_type": "stream",
     "text": [
      "70\n"
     ]
    }
   ],
   "source": [
    "print(link1.tail.value)"
   ]
  },
  {
   "cell_type": "code",
   "execution_count": 48,
   "metadata": {},
   "outputs": [
    {
     "name": "stdout",
     "output_type": "stream",
     "text": [
      "70\n"
     ]
    }
   ],
   "source": [
    "print(link1.head.nextPointer.value)"
   ]
  },
  {
   "cell_type": "code",
   "execution_count": 49,
   "metadata": {},
   "outputs": [
    {
     "name": "stdout",
     "output_type": "stream",
     "text": [
      "<__main__.Node object at 0x000001D338CCBA88>\n"
     ]
    }
   ],
   "source": [
    "print(link1.getNode(70))"
   ]
  },
  {
   "cell_type": "code",
   "execution_count": 50,
   "metadata": {},
   "outputs": [
    {
     "name": "stdout",
     "output_type": "stream",
     "text": [
      "None\n"
     ]
    }
   ],
   "source": [
    "print(link1.getNode(40))"
   ]
  },
  {
   "cell_type": "code",
   "execution_count": 51,
   "metadata": {},
   "outputs": [
    {
     "name": "stdout",
     "output_type": "stream",
     "text": [
      "None\n"
     ]
    }
   ],
   "source": [
    "print(link1.getNode(26))"
   ]
  },
  {
   "cell_type": "code",
   "execution_count": 52,
   "metadata": {},
   "outputs": [
    {
     "name": "stdout",
     "output_type": "stream",
     "text": [
      "True\n"
     ]
    }
   ],
   "source": [
    "print(link1.updateValue(30, 40))"
   ]
  },
  {
   "cell_type": "code",
   "execution_count": 53,
   "metadata": {},
   "outputs": [
    {
     "name": "stdout",
     "output_type": "stream",
     "text": [
      "True\n"
     ]
    }
   ],
   "source": [
    "print(link1.updateValue(70, 90))"
   ]
  },
  {
   "cell_type": "code",
   "execution_count": 54,
   "metadata": {},
   "outputs": [
    {
     "name": "stdout",
     "output_type": "stream",
     "text": [
      "90\n"
     ]
    }
   ],
   "source": [
    "print(link1.head.nextPointer.value)"
   ]
  },
  {
   "cell_type": "code",
   "execution_count": 55,
   "metadata": {},
   "outputs": [
    {
     "name": "stdout",
     "output_type": "stream",
     "text": [
      "False\n"
     ]
    }
   ],
   "source": [
    "print(link1.delete(60))"
   ]
  },
  {
   "cell_type": "code",
   "execution_count": 51,
   "metadata": {},
   "outputs": [
    {
     "name": "stdout",
     "output_type": "stream",
     "text": [
      "False\n"
     ]
    }
   ],
   "source": [
    "print(link1.deleteNode(50))"
   ]
  },
  {
   "cell_type": "code",
   "execution_count": 53,
   "metadata": {},
   "outputs": [
    {
     "name": "stdout",
     "output_type": "stream",
     "text": [
      "None\n"
     ]
    }
   ],
   "source": [
    "print(link1.head.nextPointer.nextPointer)"
   ]
  },
  {
   "cell_type": "code",
   "execution_count": 4,
   "metadata": {},
   "outputs": [],
   "source": [
    "# link1.insertAfter(30):\n",
    "#     1.self = addressLink1\n",
    "#     1.node = Node(value)\n",
    "#     2.node = Node(30)\n",
    "#     3.node = addnode30\n",
    "#     4.if self.value == None:\n",
    "#     5.if addressLink1.value == None:\n",
    "#     6.if 26 == None:\n",
    "#     7.if False\n",
    "#     8.else:\n",
    "#         1.currentNode = self.head.nextPointer\n",
    "#         2.currentNode = addressLink1.head.nextPointer\n",
    "#         3.currentNode = node26.nextPointer\n",
    "#         4.currentNode = None\n",
    "#         5.return self.insertNode(currentNode, node)\n",
    "#         6.return addressLink1.insertNode(None, node30)\n",
    "#             1.self = addresssLink1, currentNode = None, node = node30\n",
    "#             2.if currentNode == None:\n",
    "#             3.if None == None:\n",
    "#                 1.currentNode = node\n",
    "#                 2.currentNode = node30\n",
    "#                 3.return\n",
    "        "
   ]
  },
  {
   "cell_type": "code",
   "execution_count": 5,
   "metadata": {},
   "outputs": [],
   "source": [
    "link1.nextPointer = link2"
   ]
  },
  {
   "cell_type": "code",
   "execution_count": 6,
   "metadata": {},
   "outputs": [
    {
     "name": "stdout",
     "output_type": "stream",
     "text": [
      "30\n"
     ]
    }
   ],
   "source": [
    "print(link1.nextPointer.value)"
   ]
  },
  {
   "cell_type": "code",
   "execution_count": null,
   "metadata": {},
   "outputs": [],
   "source": [
    "# Given head which is a reference node to a singly-linked list. The value of each node in the linked list is either 0 or 1.\n",
    "# The linked list holds the binary representation of a number.\n",
    "\n",
    "# Return the decimal value of the number in the linked list\n",
    "# Input: head = [1,0,1]\n",
    "# Output: 5\n",
    "# Explanation: (101) in base 2 = (5) in base 1"
   ]
  },
  {
   "cell_type": "code",
   "execution_count": 2,
   "metadata": {},
   "outputs": [],
   "source": [
    "# Definition for singly-linked list.\n",
    "class ListNode:\n",
    "    def __init__(self, val=0, next=None):\n",
    "        self.val = val\n",
    "        self.next = next   \n",
    "class Solution:\n",
    "#     def getDecimalValue(self, head: ListNode) -> int:\n",
    "    \n",
    "# function = show elements of linked list\n",
    "# input = head \n",
    "# output = print list \n",
    "# step1:if head is None then return\n",
    "# step2:else print head and return the function again where head = head.next\n",
    "    def printList(self, head):\n",
    "        if head == None:\n",
    "            return \n",
    "        else:\n",
    "            print(head.val)\n",
    "            head = head.next\n",
    "            return self.printList(head)\n",
    "\n",
    "# 1.addressOfList.printList(head):\n",
    "#     1.head = x1,self = addressOfList\n",
    "#     2.if head == None:\n",
    "#     3.if x1= None:\n",
    "#     4.if False:\n",
    "#     5.else:\n",
    "#         1.print(head.val)\n",
    "#         2.int(x1.val)\n",
    "#         3.int(1)\n",
    "#         4.head = head.next\n",
    "#         5.head = x1.next\n",
    "#         6.head = x2\n",
    "#         7.return self.printList(head)\n",
    "#         8.return addressOfList.printList(x2):\n",
    "#             1.self = addressOfList , head = x2\n",
    "#             2.if head == None :\n",
    "#             3.if x2 == None:\n",
    "#             4.if False:\n",
    "#             5.else:\n",
    "#                 1.print(head.val)\n",
    "#                 2.print(x2.val)\n",
    "#                 3.print(0)\n",
    "#         ............\n",
    "\n",
    "# convert binary to decimal \n",
    "# input = list \n",
    "# output = decimal to the list element\n",
    "# step1:head er value 0 hole decimal value 0 or head er value 1 hole decimal value 1 hobe\n",
    "# step2:head er next na thakle return decimal \n",
    "# step3:head er next thakle return nextDigitsOfDecimal(head.next)\n",
    "\n",
    "    def convertBinarytoDecimal(self, head):\n",
    "        if head.val == 0:\n",
    "            decimal = 0\n",
    "        else:\n",
    "            decimal = 1\n",
    "        if head.next == None:\n",
    "            return decimal\n",
    "        else:\n",
    "            return self.nextDigitsOfDecimal(head.next, decimal)\n",
    "            \n",
    "#     function = linked list er emenet er value theke decimal e convert korbe \n",
    "#     input = head er next \n",
    "#     output = decimal value \n",
    "#     step1:if head er next na thake then return decimal \n",
    "#     step2:head er next thakle, \n",
    "#         1.decimal  = 2* decimal + head er next er value \n",
    "#         2.head er next er porer element head er next e assign korbo and step1 repeat korbo\n",
    "    \n",
    "    def nextDigitsOfDecimal(self, binary, decimal):\n",
    "        if binary == None:\n",
    "            return decimal\n",
    "        else:\n",
    "            decimal = 2 * decimal + binary.val\n",
    "            binary = binary.next\n",
    "            return self.nextDigitsOfDecimal(binary, decimal)\n",
    "                \n",
    "        \n",
    "# 1.[1, 0, 1]\n",
    "# 2.addressLink.convertBinarytoDecimal(self, x1):\n",
    "#     1.self = addressLink, head = x1\n",
    "#     2.if head == None \n",
    "#     3.if x1 == None\n",
    "#     4.if False\n",
    "#     5.else:\n",
    "#         1.if head.val == 0:\n",
    "#         2.if 1 ==0\n",
    "#         3.if False\n",
    "#         4.else:\n",
    "#             1.decimal = 1\n",
    "#             2.if head.next != None\n",
    "#             3.if x2 != None\n",
    "#             4.if True:\n",
    "#                 1.decimal = 2 * decimal + head.next.val\n",
    "#                 2.decimal = 2 * 1 + x2.val\n",
    "#                 3.decimal = 2 + 0 \n",
    "#                 4.decimal = 2\n",
    "#                 5.head = head.next \n",
    "#                 6.head = x2\n",
    "#                 7.return self.convertBinarytoDecimal(x2):\n",
    "#                     1.self = addressLink, head = x2\n",
    "#                     2.if head == None\n",
    "#                     3.if x2 == None\n",
    "#                     4.if False\n",
    "#                     5.else:\n",
    "#                         1.if head.val == 0\n",
    "#                         2.if True:\n",
    "#                             1.\n",
    "            \n",
    "        \n",
    "# function = getDecimalValue\n",
    "# input = head \n",
    "# output = decimal value of linked list\n",
    "# step1:initialize decimal as head value \n",
    "# step2:head er next None na howa porjonto , decimal = 2* decimal + head er next value \n",
    "# step3:return decimal value \n",
    "    def getDecimalValue(self, head):\n",
    "        decimal = head.val \n",
    "        while head.next != None:\n",
    "            decimal = decimal * 2 + head.next.val \n",
    "            head = head.next \n",
    "        return decimal \n",
    "    \n",
    "    def convertBinaryListToDecimal(self, node, decimal = 0):\n",
    "        if node == None:\n",
    "            return decimal \n",
    "        else:\n",
    "            decimal = 2 * decimal + node.val\n",
    "            return self.convertBinaryListToDecimal(node.next, decimal)\n",
    "#     1.[1, 0, 1]\n",
    "#     2.linkaddress.convertBinaryListToDecimal(x1, decimal = 0):\n",
    "#         1.self = linkaddress, node = x1, decimal = 0\n",
    "#         2.if node ==None\n",
    "#         3.if x1 == None\n",
    "#         4.if False\n",
    "#         5.else:\n",
    "#             1.decimal = 2 * decimal + node.val\n",
    "#             2.decimal = 2 * 0 + x1.val\n",
    "#             3.decimal =  0 + 1\n",
    "#             4.decimal = 1\n",
    "#             5.return self.convertBinaryListToDecimal(head.next, decimal)\n",
    "#             6.return linkaddress.convertBinaryListToDecimal(x2, 1):\n",
    "#                 1.self = linkaddress, node = x2, decimal = 1\n",
    "#                 2.if node == None\n",
    "#                 3.if x2 ==  None\n",
    "#                 4.if False\n",
    "#                 5.else:\n",
    "#                     1.decimal = 2 * decimal + node.val\n",
    "#                     2.decimal = 2 * 1 + x2.val\n",
    "#                     3.decimal = 2 + 0 \n",
    "#                     4.decimal = 2\n"
   ]
  },
  {
   "cell_type": "code",
   "execution_count": null,
   "metadata": {},
   "outputs": [],
   "source": [
    "# Definition for singly-linked list.\n",
    "# class ListNode:\n",
    "#     def __init__(self, x):\n",
    "#         self.val = x\n",
    "#         self.next = None\n",
    "\n",
    "class Solution:\n",
    "    def deleteNode(self, node):\n",
    "        \"\"\"\n",
    "        :type node: ListNode\n",
    "        :rtype: void Do not return anything, modify node in-place instead.\n",
    "        input = delete node\n",
    "        outPut = None\n",
    "        step1: node er valur jaygay node er next er value boshabo\n",
    "        step2:noder er next er next thakle node er next e assign korbo\n",
    "        \"\"\"\n",
    "        \n",
    "        node.val = node.next.val\n",
    "        nextNode = node.next\n",
    "        while nextNode.next != None:\n",
    "            node.next = nextNode.next\n",
    "            nextNode = nextNode.next\n",
    "            return\n",
    "        return \n"
   ]
  },
  {
   "cell_type": "code",
   "execution_count": null,
   "metadata": {},
   "outputs": [],
   "source": [
    "# function  = deleteNode\n",
    "# inpute = head\n",
    "# output = None\n",
    "# step1:deleteNode er jayhay deletenode er next er value boshabo\n",
    "# step2:nextNode = deleteNode.next\n",
    "# step3:nextNode er next thakle, deleteNode er next e assign korbo nahole nextNode None korbo\n",
    "class Solution:\n",
    "    def deleteNode(self, node):\n",
    "        node.val = node.next.val\n",
    "        nextNode = node.next\n",
    "        if nextNode.next != None:\n",
    "            node.next = nextNode.next\n",
    "            nextNode.next = None\n",
    "        else:\n",
    "            node.next = None\n",
    "            \n",
    "        "
   ]
  },
  {
   "cell_type": "code",
   "execution_count": null,
   "metadata": {},
   "outputs": [],
   "source": [
    "function  = delete node\n",
    "input = head\n",
    "output = head\n",
    "step1:head na thakle empty return korbo\n",
    "step2: khali head thakle head return korbo\n",
    "step3: head er next thakle:\n",
    "        1.duplicate delete korbp=o\n",
    "        2.head return korbo\n",
    "\n",
    "function  = deleteDuplicate\n",
    "input = previousNode, currentNode\n",
    "step1:jodi previousNode and currentNode thake tahole tader value same kina compare korbo\n",
    "    1.same hole previousNode er next e currentNode er next node boshabo\n",
    "    2.currentNode hobe previousNode er next node\n",
    "    3.do the same comparison again \n",
    "    4.currentNode = currentNode.next\n",
    "step2:else previousNode = currentNode\n",
    "    currentNode = currentNode.next and to the comparison again\n",
    "\n"
   ]
  },
  {
   "cell_type": "code",
   "execution_count": null,
   "metadata": {},
   "outputs": [],
   "source": [
    "class ListNode:\n",
    "    def __init__(self, val=0, next=None):\n",
    "        self.val = val\n",
    "        self.next = next\n",
    "class Solution:\n",
    "    def deleteDuplicates(self, node: ListNode) -> ListNode:\n",
    "        if node == None:\n",
    "            return node\n",
    "        else:\n",
    "            if node.next == None:\n",
    "                return node\n",
    "            else:\n",
    "                if node.val == node.next.val:\n",
    "                    node.next = node.next.next\n",
    "                    return self.deleteDuplicates(node.next)\n",
    "                else:\n",
    "                    return self.deleteDuplicates(node.next)"
   ]
  },
  {
   "cell_type": "code",
   "execution_count": null,
   "metadata": {},
   "outputs": [],
   "source": [
    "1.[4, 5, 1, 9], node = 1\n",
    "1.address1.deleteNode(node1):\n",
    "    1.self = address1, node = node1\n",
    "    2.node.val = node.next.val\n",
    "    3.node.val = node9.val \n",
    "    4.node.val = 9\n",
    "    5.nextNode = node.next\n",
    "    6.nextNode = node9\n",
    "    7.if nextNode.next != None\n",
    "    8.if node9.next != None\n",
    "    9.if None != None \n",
    "    10.if False\n",
    "    11.else:\n",
    "        node.next = None\n",
    "        "
   ]
  },
  {
   "cell_type": "code",
   "execution_count": null,
   "metadata": {},
   "outputs": [],
   "source": [
    "list1 = [5]\n",
    "list2 = [1, 2, 4]\n",
    "mergeTwoLists(l1,l2):\n",
    "    if l1 == None\n",
    "    if address5 == None\n",
    "    if False\n",
    "    elif False\n",
    "    else:\n",
    "        1.if l1.val <= l2.val:\n",
    "        2.if address5.val <= address1.val\n",
    "        3.if 5 <= 1\n",
    "        4.if False\n",
    "        5.else:\n",
    "            1.head = l2\n",
    "            2.head = address1\n",
    "            \n",
    "        6.self.margeSortedList(l1, l2):\n",
    "            1.self = x1, l1 = address5, l2 = address1\n",
    "            2.if l1.val <= l2.val:\n",
    "            3.if address5.val <= address1.val\n",
    "            5.if 5 <= 1\n",
    "            6.if False\n",
    "            7.else:\n",
    "                1.container = l2.next\n",
    "                2.container = address1.next\n",
    "                3.container = address2\n",
    "                4.l2.next = l1\n",
    "                5.l2.next = address5\n",
    "                6.l2 = l2.next\n",
    "                7.l2 = address1.next\n",
    "                8.l2 = address2\n",
    "                8.l1 = container\n",
    "                9.l1 = address2\n",
    "                10.if l1 == None or l2 == None\n",
    "                11.if address2 == None or address5 == None\n",
    "                12.if False\n",
    "                13.else:\n",
    "                    self.margesortedList(l1, l2):\n",
    "                        1.self = x1, l1 = address2, l2 = address5\n",
    "                        2.if l1.val <= l2.val:\n",
    "                        3.if address2.val <= address5.val\n",
    "                        4.if 2 <= 5\n",
    "                        5.if True:\n",
    "                            1.container = l1.next\n",
    "                            2.container = addresss2.next\n",
    "                            3.container = address4\n",
    "                            4.l1.next = l2\n",
    "                            5.l1.next = address5\n",
    "                            6.l1 = l1.next\n",
    "                            7.l1 = address5\n",
    "                            8.l2 = container \n",
    "                            9.l2 = address4\n",
    "                            10.if l1 == None or l2 == None:\n",
    "                            11.if address5 == None or address4 == None\n",
    "                            12.False:\n",
    "                            13.else:\n",
    "                                1.self.margeSortedList(l1, l2)\n",
    "                                2.1.self = x1, l1 = address5, l2 = address4\n",
    "                                2.if l1.val <= l2.val:\n",
    "                                3.if address5.val <= address4.val\n",
    "                                4.if 5 <= 4\n",
    "                                5.if False\n",
    "                                6.else:\n",
    "                                    1.container = l2.next\n",
    "                                    2.container = address4.next\n",
    "                                    3.container = None\n",
    "                                    4.l2.next = l1\n",
    "                                    5.l2.next = address5\n",
    "                                    6.l2 = l2.next\n",
    "                                    7.l2 = None\n",
    "                                    8.l1 = container\n",
    "                                    9.l1 = None\n",
    "                                    10.if l1 == None or l2 == None\n",
    "                                        1.return\n",
    "                                    \n",
    "            7.head \n",
    "            8.address1\n",
    "    \n",
    "                        \n",
    "        \n",
    "        "
   ]
  },
  {
   "cell_type": "code",
   "execution_count": null,
   "metadata": {},
   "outputs": [],
   "source": [
    "function  = marge two sorted lisr\n",
    "input = L1 and L2 where they are the first node of list1 and list2\n",
    "outPut = head of the marged list\n",
    "step1:jodi l1 and l2 empty hoy then return \n",
    "step2:jodi l1 na thake then return l2 \n",
    "step3:jodi l2 na thake then return l1\n",
    "step4:jodi l1 and l2 duitai thake:\n",
    "        4.1.find head (minimum of l1 and l2)\n",
    "        4.2.previous = None\n",
    "        4.3.jotokkhon porjonto l1 nad l2 2ta tei element thake:\n",
    "            4.3.1.compare l1 and l2 , if l1 is smaller then choosenList = 1st else \n",
    "            choosenList = 2nd\n",
    "            4.3.2 if choosenList = 1st then container = l1 else container = l2\n",
    "            4.3.3find maximum = max of l1 and l2\n",
    "            4.3.4 if previous is not none then previous.next = container\n",
    "            4.3.5.ebar jotokkhon porjonto container er value max er cheye boro na hoy\n",
    "                4.3.5.1:previous = container\n",
    "                4.3.5.2:container = container.next \n",
    "                4.3.5.3:container none hoye gele ber hoye ashbo\n",
    "                \n",
    "            4.3.6.choosenList 1st hole l1 = container otherwise l2 = container\n",
    "            4.3.7 go back to step 4.3\n",
    "step5:l1 or l2 er konota empty hoye gele\n",
    "    5.1: l1 empty hole\n",
    "        5.1.1previous er next e l2 boshabo jotokkhon porjonto l2 none na hoy\n",
    "    5.2:l2 empty hole\n",
    "        5.2.1 previous er next e l1 boshabo jotokkhon poronto l1 none na hoy\n",
    "        \n",
    "        \n",
    "\n"
   ]
  },
  {
   "cell_type": "code",
   "execution_count": null,
   "metadata": {},
   "outputs": [],
   "source": [
    "class ListNode:\n",
    "    def __init__(self, val=0, next=None):\n",
    "        self.val = val\n",
    "        self.next = next\n",
    "class Solution:\n",
    "    def addTwoNumbers(self, l1: ListNode, l2: ListNode) -> ListNode:\n",
    "        summation = l1.val + l2.val\n",
    "            if summation >= 10:\n",
    "                remainder = summation % 10\n",
    "                newLinkedList = ListNode(remainder)\n",
    "                dividor = summation // 10\n",
    "            else:\n",
    "                newLinkedList = ListNode(summation)\n",
    "            head = newLinkedList\n",
    "            self.findNextDigits(newLinkedList, l1.next, l2.next)\n",
    "            return head\n",
    "    def findNextDigits(self,newLinkedList, l1 , l2):   \n",
    "        while l1 != None and l2 != None:\n",
    "            summation = l1.val + l2.val\n",
    "                \n",
    "            if summation >= 10:\n",
    "                remainder = summation % 10\n",
    "                newLinkedList.next = ListNode(remainder)\n",
    "                newLinkedList = newLinkedList.next\n",
    "                dividor = summation // 10\n",
    "                l1 = l1.next\n",
    "                l2 = l2.next\n",
    "                if l1 != None and l2 != None:\n",
    "                    summation = l1.val + l2.val + dividor \n",
    "                    newLinkedList.next = ListNode(summation)\n",
    "                    newLinkedList = newLinkedList.next\n",
    "            else:\n",
    "                newLinkedList.next = ListNode(summation)\n",
    "                newLinkedList = newLinkedList.next\n",
    "            l1 = l1.next\n",
    "            l2 = l2.next\n",
    "        return newLinkedList\n",
    "        \n",
    "            "
   ]
  },
  {
   "cell_type": "code",
   "execution_count": null,
   "metadata": {},
   "outputs": [],
   "source": [
    "function = add two numbers where the number is a linked list and each node is a digit\n",
    "input = L1 and L2 where L1 is the first node of the list1 and L2 is the first node of list2\n",
    "output = return head of the summation linked lisy\n",
    "step1:initialize c = o where c is carryon\n",
    "step2:initialize head = None\n",
    "step3:jodi l1 thak or l2 thake or carryon thake tahole:\n",
    "    3.1:l1 and l2 jodi empty na hole, summation = l1.val + l2.val + c\n",
    "    or l1 jodi empty hoy , summation = l2.val + c\n",
    "    or l2 jodi empty hoy , summation = l1.val + c\n",
    "    or l1 and l2 empty , summation = c\n",
    "    3.2:jodi summation >10 hoy then summation k 10 diye vag kore remainder\n",
    "        er value diye linkedList L3 banabo and c = 1\n",
    "    3.2:jodi head None hoy then head = L3 \n",
    "    3.3:head None na hole L3 er next e add korbo and L3 update korbo\n",
    "step4:return head "
   ]
  },
  {
   "cell_type": "code",
   "execution_count": null,
   "metadata": {},
   "outputs": [],
   "source": [
    "list1 = [5,9], list2 = [3]\n",
    "1.l1 = address5, l2 = address3 \n",
    "2.c = 0\n",
    "3.head = None\n",
    "4.if l1 != None and l2 != None and c == 0\n",
    "5.if address5 != None and address3 != None and c == 0\n",
    "6.if True:\n",
    "    1.summation = l1.val + l2.val + c\n",
    "    2.summation = 5 + 3 + 0\n",
    "    3.summation = 8 \n",
    "7.if summation < 10\n",
    "8.if 8 < 10\n",
    "9.if True:\n",
    "    1.l3 = ListNode(summation)\n",
    "    2.l3 = ListNode(8)\n",
    "    3.l3 = address8\n",
    "10.head = address8"
   ]
  },
  {
   "cell_type": "code",
   "execution_count": null,
   "metadata": {},
   "outputs": [],
   "source": []
  }
 ],
 "metadata": {
  "kernelspec": {
   "display_name": "Python 3",
   "language": "python",
   "name": "python3"
  },
  "language_info": {
   "codemirror_mode": {
    "name": "ipython",
    "version": 3
   },
   "file_extension": ".py",
   "mimetype": "text/x-python",
   "name": "python",
   "nbconvert_exporter": "python",
   "pygments_lexer": "ipython3",
   "version": "3.7.4"
  }
 },
 "nbformat": 4,
 "nbformat_minor": 2
}
