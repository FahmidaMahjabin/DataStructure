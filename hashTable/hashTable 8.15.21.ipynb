{
 "cells": [
  {
   "cell_type": "code",
   "execution_count": null,
   "metadata": {},
   "outputs": [],
   "source": [
    "hashmap\n",
    "In hash map we made a relation of one type of object with another.\n",
    "input = one type of object could be string, IP address or anything \n",
    "change it into an easy index to remember it \n",
    "methods of hashmap:\n",
    "    1.hasKey = give a key and find out whether it exists or not\n",
    "    2.GetValue = give a key and find out the value corresponding to the key\n",
    "    3.setValue = give a key and set the value of the key"
   ]
  },
  {
   "cell_type": "code",
   "execution_count": 1,
   "metadata": {},
   "outputs": [],
   "source": [
    "class LLNode:\n",
    "    def __init__(self, key, value):\n",
    "        self.key = key\n",
    "        self.value = value\n",
    "        self.nextPointer = None"
   ]
  },
  {
   "cell_type": "code",
   "execution_count": 2,
   "metadata": {},
   "outputs": [],
   "source": [
    "class HashTable:\n",
    "    def __init__(self):\n",
    "        self.size = 10\n",
    "        self.listOfNode = [None] * self.size\n",
    "        \n",
    "#function getHash(key k index dibo)\n",
    "# input = number\n",
    "# output = none\n",
    "# step1: object er key k 5 diye divide kore modulus k index hishebe define korbo\n",
    "# step4:return index\n",
    "  \n",
    "\n",
    "    def getHash(self, key):\n",
    "        if type(key) is int:\n",
    "            index = key % 10\n",
    "            \n",
    "        else:\n",
    "            index = convertStringToInt(key)\n",
    "        return index\n",
    "    \n",
    "  \n",
    "        \n",
    "# function = setValue(object er key deya thakbe value set korte hobe)\n",
    "# input =an object which has key and value\n",
    "# output = None\n",
    "# step1:key theke index ber korbo\n",
    "# step2:oi index e empty hole index e object boshabo\n",
    "# step3:oi index e element thakle, insertValueForSameIndex er jonno value bosthabo\n",
    "\n",
    "    def setValue(self, key, value):\n",
    "        index = self.getHash(key)\n",
    "        newLL = LLNode(key, value)\n",
    "        if self.listOfNode[index] == None:\n",
    "            self.listOfNode[index] = newLL\n",
    "\n",
    "        else:\n",
    "            valuesForSameIndex = self.listOfNode[index]\n",
    "            return self.incertElementForSameIndex(valuesForSameIndex, newLL)\n",
    "\n",
    "# function  = insertValueForSameIndex\n",
    "# step1: jodi valueForSameInddex e kono elemnt thake then tar next pointer e check korbo j empty kina\n",
    "#     step1.1:empty hole value boshabo \n",
    "# step2:jotokkhon porjonto empty na pabo step1 repeat korbo\n",
    "    \n",
    "    def incertElementForSameIndex(self, linkedList,element ):\n",
    "        while linkedList.nextPointer != None:\n",
    "            linkedList = linkedList.nextPointer\n",
    "        linkedList.nextPointer = element\n",
    "        \n",
    "# 1.numbers.setValue(60, 4):\n",
    "#     1.self = numbers, key = 60, value = 4\n",
    "#     2.index = self.getHash(key)\n",
    "#     3.index = numbers.hashFunctionForObject(60):\n",
    "#         1.self = numbers, key = 60\n",
    "#         2.index = key % 5\n",
    "#         3.index = 60 % 5\n",
    "#         4.index = 0\n",
    "#         5.return 0\n",
    "#     4.index = 0\n",
    "#     5.valuesForSameKey = self.listOfNode[index]\n",
    "#     6.valuesForSameKey = self.listOfNode[0]\n",
    "#     7.valuesForSameKey = address30\n",
    "#     8.newLL = LLNode(key, value)\n",
    "#     9.newLL = LLNode(60, 4)\n",
    "#     10.newLL = address60\n",
    "#     11.if valueForSameKey == None\n",
    "#     12.if address30 == None\n",
    "#     13.if False\n",
    "#     14.else:\n",
    "#         return self.incertElementForSameIndex(valuesForSameKey, newLL)\n",
    "#         1.self = numbers, linkedList = address30, element = address60\n",
    "#         2.while linkedList != None:\n",
    "#         3.while address30 != None\n",
    "#         4.while True:\n",
    "#             linkedList = linkedList.nextPointer\n",
    "#             linkedList = address30.nextPointer\n",
    "#             linkedList = None\n",
    "#         5.while None != None\n",
    "#         6.while False\n",
    "#         7.linkedList = element\n",
    "#         8.linkedList = address60\n",
    "        \n",
    "    \n",
    "# function = getValue (key deya thakbe value return korbo )\n",
    "# input = key\n",
    "# output =return value jodi thake, else return None\n",
    "# step1:key theke index ber korbo\n",
    "# step2:oi index e value thakle return value elase return None\n",
    "# step3.oi index e onno value thakle getValueForsameIndex e khujbo\n",
    "# listOfObject, hashTable, listOfNode \n",
    "\n",
    "    def getValue(self, key):\n",
    "        index = self.getHash(key)\n",
    "        if self.listOfNode[index] == None:\n",
    "            return None\n",
    "        else:\n",
    "            if self.listOfNode[index].key == key:\n",
    "                return self.listOfNode[index].value\n",
    "            else:\n",
    "                elementsInSameIndex = self.listOfNode[index]\n",
    "                return self.getValueForSameIndex(elementsInSameIndex, key)\n",
    "            \n",
    "    def getValue(self, key):\n",
    "        getNode = self.getNode(key)\n",
    "        if getNode != None:\n",
    "            return getNode.value\n",
    "        else:\n",
    "            return None\n",
    "            \n",
    "        \n",
    "            \n",
    "#function = getValueForSameIndex\n",
    "# input = linkNode that has same Index, key\n",
    "# outPut = value\n",
    "# step1:linkNode er key er value and inputKey er value same na howa porjonto:\n",
    "#         step1.1:linkNode er nextPointer hobe linkNode\n",
    "#         step1.2:linkNode empty hole return None\n",
    "# step2:value same hole return that key's value\n",
    "    def getValueForSameIndex(self,linkNode, key):\n",
    "        while linkNode.key != key:\n",
    "            linkNode = linkNode.nextPointer\n",
    "            if linkNode == None:\n",
    "                return None\n",
    "        return linkNode.value        \n",
    "            \n",
    "# 1.numbers.getValue(70):\n",
    "#     1.self = numbers, key = 70\n",
    "#     2.index = self.getHash(key)\n",
    "#     3.index = numbers.getHash(70)\n",
    "#     4.index = 0\n",
    "#     5.elementsWithSameIndex = self.listOfNode[index]\n",
    "#     6.elementsWithSameIndex = numbers.listOfNode[0]\n",
    "#     7.elementsWithSameIndex = address40\n",
    "#     8.if elementsWithSameIndex == None\n",
    "#     9\n",
    "\n",
    "# function = getNode(search a key)\n",
    "# input = key\n",
    "# output = True or False\n",
    "# step1:key theke index ber korbo\n",
    "# step2:oi index e element na thakle return False\n",
    "# step3:oi index e element thakle, and key same hole return True\n",
    "#     step3.1:key same na hole linkedList e key search korbo\n",
    "    def getNode(self, key):\n",
    "        index = self.getHash(key)\n",
    "        if self.listOfNode[index] == None:\n",
    "            return None\n",
    "        else:\n",
    "            if self.listOfNode[index].key == key:\n",
    "                return self.listOfNode[index]\n",
    "            else:\n",
    "                elementsWithSameIndex = self.listOfNode[index]\n",
    "                return self.getNodeForSameIndex(elementsWithSameIndex, key)\n",
    "                \n",
    "    def getNodeForSameIndex(self,linkNode, key):\n",
    "        while linkNode.key != key:\n",
    "            linkNode = linkNode.nextPointer\n",
    "            if linkNode == None:\n",
    "                return None\n",
    "        return linkNode\n",
    "# function = getNodes\n",
    "# input = None\n",
    "# outPut = all keys\n",
    "# step1:loop through listOfNode\n",
    "# step2:if listOfNode is not empty then append the key in a list\n",
    "#     step2.1:oi index er nextPointer empty na howa porjonto add the key \n",
    "# step3:return the list\n",
    "    def getNodes(self):\n",
    "        keys = []\n",
    "        for index in self.listOfNode:\n",
    "            if index != None:\n",
    "                keys.append(index.key)\n",
    "                while index.nextPointer != None:\n",
    "                    keys.append(index.nextPointer.key)\n",
    "                    index = index.nextPointer\n",
    "        return keys\n",
    "    \n",
    "\n",
    "            "
   ]
  },
  {
   "cell_type": "code",
   "execution_count": 3,
   "metadata": {},
   "outputs": [],
   "source": [
    "  # function = convertStringToHash\n",
    "# input = string\n",
    "# output = index\n",
    "# step1:string er every character decimal e convert kore sum korbo\n",
    "# step2:sum k 10 diye modulus korbo oita index hobe\n",
    "def convertStringToInt(text):\n",
    "    summation = 0\n",
    "    for character in text:\n",
    "        summation += ord(character)\n",
    "    index = summation % 10\n",
    "    return index"
   ]
  },
  {
   "cell_type": "code",
   "execution_count": 4,
   "metadata": {},
   "outputs": [],
   "source": [
    "# function = convert roman to decimal \n",
    "# input = roman \n",
    "# output = decimal\n",
    "# step1:initialize summation = 0 \n",
    "# step2:roman number theke  ekta kore digit nibo firstDigit hishebe and tar porer digit second digit\n",
    "# step3:if secondDigit is greaterThan the first digit then summation += -firstDigit\n",
    "# step3:else summation += firstDigit \n",
    "# step4:last digit ta add kore dibo\n",
    "# step5:return summation\n",
    "def convertRomanToInteger(roman):\n",
    "    summation  = 0\n",
    "    for index in range(len(roman) - 1):\n",
    "        firstDigit = romans.getValue(roman[index])\n",
    "        secondDigit = romans.getValue(roman[index + 1])\n",
    "        if secondDigit > firstDigit:\n",
    "            summation += -firstDigit    \n",
    "        else:\n",
    "            summation += firstDigit \n",
    "    summation += secondDigit\n",
    "    return summation"
   ]
  },
  {
   "cell_type": "code",
   "execution_count": 5,
   "metadata": {},
   "outputs": [],
   "source": [
    "romans = HashTable()"
   ]
  },
  {
   "cell_type": "code",
   "execution_count": 8,
   "metadata": {},
   "outputs": [
    {
     "ename": "TypeError",
     "evalue": "'HashTable' object is not subscriptable",
     "output_type": "error",
     "traceback": [
      "\u001b[1;31m---------------------------------------------------------------------------\u001b[0m",
      "\u001b[1;31mTypeError\u001b[0m                                 Traceback (most recent call last)",
      "\u001b[1;32m<ipython-input-8-f719a3f75a01>\u001b[0m in \u001b[0;36m<module>\u001b[1;34m\u001b[0m\n\u001b[1;32m----> 1\u001b[1;33m \u001b[0mromans\u001b[0m\u001b[1;33m[\u001b[0m\u001b[1;34m\"size\"\u001b[0m\u001b[1;33m]\u001b[0m\u001b[1;33m\u001b[0m\u001b[1;33m\u001b[0m\u001b[0m\n\u001b[0m",
      "\u001b[1;31mTypeError\u001b[0m: 'HashTable' object is not subscriptable"
     ]
    }
   ],
   "source": [
    "romans[\"size\"]"
   ]
  },
  {
   "cell_type": "code",
   "execution_count": 7,
   "metadata": {},
   "outputs": [
    {
     "ename": "AttributeError",
     "evalue": "'HashTable' object has no attribute 'getFirstRecurringCharacter'",
     "output_type": "error",
     "traceback": [
      "\u001b[1;31m---------------------------------------------------------------------------\u001b[0m",
      "\u001b[1;31mAttributeError\u001b[0m                            Traceback (most recent call last)",
      "\u001b[1;32m<ipython-input-7-673d2b44b8b0>\u001b[0m in \u001b[0;36m<module>\u001b[1;34m\u001b[0m\n\u001b[1;32m----> 1\u001b[1;33m \u001b[0mromans\u001b[0m\u001b[1;33m.\u001b[0m\u001b[0mgetFirstRecurringCharacter\u001b[0m\u001b[1;33m(\u001b[0m\u001b[1;33m[\u001b[0m\u001b[1;36m2\u001b[0m\u001b[1;33m,\u001b[0m \u001b[1;36m3\u001b[0m\u001b[1;33m,\u001b[0m \u001b[1;36m2\u001b[0m\u001b[1;33m,\u001b[0m \u001b[1;36m1\u001b[0m\u001b[1;33m,\u001b[0m\u001b[1;36m2\u001b[0m\u001b[1;33m]\u001b[0m\u001b[1;33m)\u001b[0m\u001b[1;33m\u001b[0m\u001b[1;33m\u001b[0m\u001b[0m\n\u001b[0m",
      "\u001b[1;31mAttributeError\u001b[0m: 'HashTable' object has no attribute 'getFirstRecurringCharacter'"
     ]
    }
   ],
   "source": [
    "romans.getFirstRecurringCharacter([2, 3, 2, 1,2])"
   ]
  },
  {
   "cell_type": "code",
   "execution_count": 29,
   "metadata": {},
   "outputs": [],
   "source": [
    "romans.setValue(\"I\", 1)"
   ]
  },
  {
   "cell_type": "code",
   "execution_count": 30,
   "metadata": {},
   "outputs": [],
   "source": [
    "romans.setValue(\"V\", 5)"
   ]
  },
  {
   "cell_type": "code",
   "execution_count": 31,
   "metadata": {},
   "outputs": [],
   "source": [
    "romans.setValue(\"I\", 1)"
   ]
  },
  {
   "cell_type": "code",
   "execution_count": 32,
   "metadata": {},
   "outputs": [],
   "source": [
    "romans.setValue(\"X\", 10)"
   ]
  },
  {
   "cell_type": "code",
   "execution_count": 33,
   "metadata": {},
   "outputs": [],
   "source": [
    "romans.setValue(\"L\", 50)"
   ]
  },
  {
   "cell_type": "code",
   "execution_count": 34,
   "metadata": {},
   "outputs": [],
   "source": [
    "romans.setValue(\"C\", 100)"
   ]
  },
  {
   "cell_type": "code",
   "execution_count": 35,
   "metadata": {},
   "outputs": [],
   "source": [
    "romans.setValue(\"D\", 500)"
   ]
  },
  {
   "cell_type": "code",
   "execution_count": 36,
   "metadata": {},
   "outputs": [],
   "source": [
    "romans.setValue(\"M\", 1000)"
   ]
  },
  {
   "cell_type": "code",
   "execution_count": 37,
   "metadata": {},
   "outputs": [
    {
     "name": "stdout",
     "output_type": "stream",
     "text": [
      "58\n"
     ]
    }
   ],
   "source": [
    "s = \"LVIII\"\n",
    "print(convertRomanToInteger(s))"
   ]
  },
  {
   "cell_type": "code",
   "execution_count": 38,
   "metadata": {},
   "outputs": [
    {
     "name": "stdout",
     "output_type": "stream",
     "text": [
      "[None, None, None, 5, None, None, None, None, None, None]\n"
     ]
    }
   ],
   "source": [
    "list1 = [None]\n",
    "list1 = list1 * 10\n",
    "list1[3] = 5\n",
    "print(list1)"
   ]
  },
  {
   "cell_type": "code",
   "execution_count": 39,
   "metadata": {},
   "outputs": [],
   "source": [
    "numbers = HashTable()\n",
    "numbers.setValue(40, 2)"
   ]
  },
  {
   "cell_type": "code",
   "execution_count": 40,
   "metadata": {},
   "outputs": [],
   "source": [
    "numbers.setValue(\"Bangladesh\", 2)"
   ]
  },
  {
   "cell_type": "code",
   "execution_count": 41,
   "metadata": {},
   "outputs": [
    {
     "name": "stdout",
     "output_type": "stream",
     "text": [
      "False\n"
     ]
    }
   ],
   "source": [
    "print(isinstance(\"trml\", bool)) "
   ]
  },
  {
   "cell_type": "code",
   "execution_count": 42,
   "metadata": {},
   "outputs": [
    {
     "data": {
      "text/plain": [
       "1"
      ]
     },
     "execution_count": 42,
     "metadata": {},
     "output_type": "execute_result"
    }
   ],
   "source": [
    "numbers.getHash(\"Bangladesh\")"
   ]
  },
  {
   "cell_type": "code",
   "execution_count": 43,
   "metadata": {},
   "outputs": [
    {
     "data": {
      "text/plain": [
       "0"
      ]
     },
     "execution_count": 43,
     "metadata": {},
     "output_type": "execute_result"
    }
   ],
   "source": [
    "numbers.getHash(40)"
   ]
  },
  {
   "cell_type": "code",
   "execution_count": 44,
   "metadata": {},
   "outputs": [],
   "source": [
    "numbers.setValue(50, 3)"
   ]
  },
  {
   "cell_type": "code",
   "execution_count": 45,
   "metadata": {},
   "outputs": [],
   "source": [
    "numbers.setValue(60, 4)"
   ]
  },
  {
   "cell_type": "code",
   "execution_count": 46,
   "metadata": {},
   "outputs": [
    {
     "name": "stdout",
     "output_type": "stream",
     "text": [
      "[40, 50, 60, 'Bangladesh']\n"
     ]
    }
   ],
   "source": [
    "print(numbers.getNodes())"
   ]
  },
  {
   "cell_type": "code",
   "execution_count": 47,
   "metadata": {},
   "outputs": [
    {
     "name": "stdout",
     "output_type": "stream",
     "text": [
      "[<__main__.LLNode object at 0x00000237743C1808>, <__main__.LLNode object at 0x00000237743CC4C8>, None, None, None, None, None, None, None, None]\n"
     ]
    }
   ],
   "source": [
    "print(numbers.listOfNode)"
   ]
  },
  {
   "cell_type": "code",
   "execution_count": 15,
   "metadata": {},
   "outputs": [
    {
     "name": "stdout",
     "output_type": "stream",
     "text": [
      "60\n"
     ]
    }
   ],
   "source": [
    "print(numbers.listOfNode[0].nextPointer.nextPointer.key)"
   ]
  },
  {
   "cell_type": "code",
   "execution_count": 64,
   "metadata": {},
   "outputs": [
    {
     "name": "stdout",
     "output_type": "stream",
     "text": [
      "4\n"
     ]
    }
   ],
   "source": [
    "print(numbers.getValue(60))"
   ]
  },
  {
   "cell_type": "code",
   "execution_count": 65,
   "metadata": {},
   "outputs": [
    {
     "name": "stdout",
     "output_type": "stream",
     "text": [
      "None\n"
     ]
    }
   ],
   "source": [
    "print(numbers.getValue(33))"
   ]
  },
  {
   "cell_type": "code",
   "execution_count": 67,
   "metadata": {},
   "outputs": [
    {
     "name": "stdout",
     "output_type": "stream",
     "text": [
      "3\n"
     ]
    }
   ],
   "source": [
    "print(numbers.getValue(50))"
   ]
  },
  {
   "cell_type": "code",
   "execution_count": 54,
   "metadata": {},
   "outputs": [
    {
     "name": "stdout",
     "output_type": "stream",
     "text": [
      "True\n"
     ]
    }
   ],
   "source": [
    "print(numbers.hasKey(60))"
   ]
  },
  {
   "cell_type": "code",
   "execution_count": 55,
   "metadata": {},
   "outputs": [
    {
     "name": "stdout",
     "output_type": "stream",
     "text": [
      "False\n"
     ]
    }
   ],
   "source": [
    "print(numbers.hasKey(34))"
   ]
  },
  {
   "cell_type": "code",
   "execution_count": 56,
   "metadata": {},
   "outputs": [
    {
     "name": "stdout",
     "output_type": "stream",
     "text": [
      "True\n"
     ]
    }
   ],
   "source": [
    "print(numbers.hasKey(50))"
   ]
  },
  {
   "cell_type": "code",
   "execution_count": 19,
   "metadata": {},
   "outputs": [
    {
     "name": "stdout",
     "output_type": "stream",
     "text": [
      "{1, 2, 3, 4}\n"
     ]
    }
   ],
   "source": [
    "set1 = {1,2, 3, 4, 1, 4}\n",
    "print(set1)"
   ]
  },
  {
   "cell_type": "code",
   "execution_count": null,
   "metadata": {},
   "outputs": [],
   "source": [
    "set \n",
    "unodered = the values could appear in any order\n",
    "unchanged = values are unindexed so we can't change the value\n",
    "noduplicate \n",
    "in set there is no key. so the values are being hashed."
   ]
  },
  {
   "cell_type": "code",
   "execution_count": 45,
   "metadata": {},
   "outputs": [],
   "source": [
    "# first recurring character\n",
    "# input = list of numbers\n",
    "# output = number that first recure\n",
    "# function = make a listOfOccurance\n",
    "# input = listOfNumber\n",
    "# output = none\n",
    "# step1:every number k index hishebe nibo \n",
    "# step2:oi index e kono element age na thakle count = 0 set korbo value hishebe \n",
    "#     step2.1:else value age theke thakle count + 1 korbo \n",
    "        \n",
    "# step3:return listOfOccurance \n",
    "\n",
    "def makeListOfOccurance(listOfNumber):\n",
    "    listOfOccurance = [None] * 10\n",
    "    for number in listOfNumber:\n",
    "        if listOfOccurance[number] == None:\n",
    "            listOfOccurance[number] = 1\n",
    "        else:\n",
    "            listOfOccurance[number] += 1\n",
    "    return listOfOccurance\n",
    "# function = getFirstRecurringCharacter\n",
    "# input = listOfNumber\n",
    "# outPut = first recurringCharacter\n",
    "# step1:list er protttekta number er occurance check korbo 1 er cheye boro kina\n",
    "#     step1.1: boro hole return that number\n",
    "def getFirstRecurringCharacter(listOfNumber):\n",
    "    listOfOccurance = makeListOfOccurance(listOfNumber)\n",
    "    for number in listOfNumber:\n",
    "        if listOfOccurance[number] > 1:\n",
    "            return number"
   ]
  },
  {
   "cell_type": "code",
   "execution_count": 40,
   "metadata": {},
   "outputs": [],
   "source": [
    "def getFirstRecurringChar(listOfNumber):\n",
    "    uniqueList = []\n",
    "    for number in listOfNumber:\n",
    "        if number not in uniqueList:\n",
    "            uniqueList.append(number)\n",
    "        else:\n",
    "            return number"
   ]
  },
  {
   "cell_type": "code",
   "execution_count": 43,
   "metadata": {},
   "outputs": [
    {
     "name": "stdout",
     "output_type": "stream",
     "text": [
      "5\n"
     ]
    }
   ],
   "source": [
    "givenList = [2,5,5,2,3,5,1,2,4] \n",
    "print(getFirstRecurringChar(givenList))"
   ]
  },
  {
   "cell_type": "code",
   "execution_count": 46,
   "metadata": {},
   "outputs": [
    {
     "name": "stdout",
     "output_type": "stream",
     "text": [
      "[None, 1, 3, 1, 1, 3, None, None, None, None]\n",
      "2\n"
     ]
    }
   ],
   "source": [
    "givenList = [2,5,5,2,3,5,1,2,4] \n",
    "print(makeListOfOccurance(givenList))\n",
    "print(getFirstRecurringCharacter(givenList))"
   ]
  },
  {
   "cell_type": "code",
   "execution_count": 13,
   "metadata": {},
   "outputs": [
    {
     "name": "stdout",
     "output_type": "stream",
     "text": [
      "107\n"
     ]
    }
   ],
   "source": [
    "text = \"jjk\"\n",
    "print(ord(\"k\"))"
   ]
  },
  {
   "cell_type": "code",
   "execution_count": 16,
   "metadata": {},
   "outputs": [
    {
     "name": "stdout",
     "output_type": "stream",
     "text": [
      "10\n"
     ]
    }
   ],
   "source": [
    "dictOfRomanVal = {\"I\":1, \"V\": 5, \"X\": 10, \"L\": 50, \"C\":100, \"D\":500, \"M\":1000}\n",
    "s = \"XL\"\n",
    "for digit in range(len(s)-1):\n",
    "    firstRoman = s[digit]\n",
    "    firstDigit = dictOfRomanVal[firstRoman]\n",
    "print(firstDigit)"
   ]
  },
  {
   "cell_type": "code",
   "execution_count": null,
   "metadata": {},
   "outputs": [],
   "source": []
  }
 ],
 "metadata": {
  "kernelspec": {
   "display_name": "Python 3",
   "language": "python",
   "name": "python3"
  },
  "language_info": {
   "codemirror_mode": {
    "name": "ipython",
    "version": 3
   },
   "file_extension": ".py",
   "mimetype": "text/x-python",
   "name": "python",
   "nbconvert_exporter": "python",
   "pygments_lexer": "ipython3",
   "version": "3.7.4"
  }
 },
 "nbformat": 4,
 "nbformat_minor": 2
}
